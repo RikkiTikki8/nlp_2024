{
 "cells": [
  {
   "cell_type": "code",
   "execution_count": 1,
   "outputs": [],
   "source": [
    "%load_ext autoreload\n",
    "%autoreload 2"
   ],
   "metadata": {
    "collapsed": false
   }
  },
  {
   "cell_type": "code",
   "execution_count": 2,
   "outputs": [
    {
     "name": "stderr",
     "output_type": "stream",
     "text": [
      "[nltk_data] Downloading package stopwords to\n",
      "[nltk_data]     C:\\Users\\user\\AppData\\Roaming\\nltk_data...\n",
      "[nltk_data]   Package stopwords is already up-to-date!\n",
      "[nltk_data] Downloading package wordnet to\n",
      "[nltk_data]     C:\\Users\\user\\AppData\\Roaming\\nltk_data...\n",
      "[nltk_data]   Package wordnet is already up-to-date!\n"
     ]
    },
    {
     "data": {
      "text/plain": "       is_sarcastic                                           headline   \n0                 1  thirtysomething scientists unveil doomsday clo...  \\\n1                 0  dem rep. totally nails why congress is falling...   \n2                 0  eat your veggies: 9 deliciously different recipes   \n3                 1  inclement weather prevents liar from getting t...   \n4                 1  mother comes pretty close to using word 'strea...   \n...             ...                                                ...   \n26704             0               american politics in moral free-fall   \n26705             0                            america's best 20 hikes   \n26706             0                              reparations and obama   \n26707             0  israeli ban targeting boycott supporters raise...   \n26708             0                  gourmet gifts for the foodie 2014   \n\n                                            article_link  \n0      https://www.theonion.com/thirtysomething-scien...  \n1      https://www.huffingtonpost.com/entry/donna-edw...  \n2      https://www.huffingtonpost.com/entry/eat-your-...  \n3      https://local.theonion.com/inclement-weather-p...  \n4      https://www.theonion.com/mother-comes-pretty-c...  \n...                                                  ...  \n26704  https://www.huffingtonpost.com/entry/american-...  \n26705  https://www.huffingtonpost.com/entry/americas-...  \n26706  https://www.huffingtonpost.com/entry/reparatio...  \n26707  https://www.huffingtonpost.com/entry/israeli-b...  \n26708  https://www.huffingtonpost.com/entry/gourmet-g...  \n\n[55328 rows x 3 columns]",
      "text/html": "<div>\n<style scoped>\n    .dataframe tbody tr th:only-of-type {\n        vertical-align: middle;\n    }\n\n    .dataframe tbody tr th {\n        vertical-align: top;\n    }\n\n    .dataframe thead th {\n        text-align: right;\n    }\n</style>\n<table border=\"1\" class=\"dataframe\">\n  <thead>\n    <tr style=\"text-align: right;\">\n      <th></th>\n      <th>is_sarcastic</th>\n      <th>headline</th>\n      <th>article_link</th>\n    </tr>\n  </thead>\n  <tbody>\n    <tr>\n      <th>0</th>\n      <td>1</td>\n      <td>thirtysomething scientists unveil doomsday clo...</td>\n      <td>https://www.theonion.com/thirtysomething-scien...</td>\n    </tr>\n    <tr>\n      <th>1</th>\n      <td>0</td>\n      <td>dem rep. totally nails why congress is falling...</td>\n      <td>https://www.huffingtonpost.com/entry/donna-edw...</td>\n    </tr>\n    <tr>\n      <th>2</th>\n      <td>0</td>\n      <td>eat your veggies: 9 deliciously different recipes</td>\n      <td>https://www.huffingtonpost.com/entry/eat-your-...</td>\n    </tr>\n    <tr>\n      <th>3</th>\n      <td>1</td>\n      <td>inclement weather prevents liar from getting t...</td>\n      <td>https://local.theonion.com/inclement-weather-p...</td>\n    </tr>\n    <tr>\n      <th>4</th>\n      <td>1</td>\n      <td>mother comes pretty close to using word 'strea...</td>\n      <td>https://www.theonion.com/mother-comes-pretty-c...</td>\n    </tr>\n    <tr>\n      <th>...</th>\n      <td>...</td>\n      <td>...</td>\n      <td>...</td>\n    </tr>\n    <tr>\n      <th>26704</th>\n      <td>0</td>\n      <td>american politics in moral free-fall</td>\n      <td>https://www.huffingtonpost.com/entry/american-...</td>\n    </tr>\n    <tr>\n      <th>26705</th>\n      <td>0</td>\n      <td>america's best 20 hikes</td>\n      <td>https://www.huffingtonpost.com/entry/americas-...</td>\n    </tr>\n    <tr>\n      <th>26706</th>\n      <td>0</td>\n      <td>reparations and obama</td>\n      <td>https://www.huffingtonpost.com/entry/reparatio...</td>\n    </tr>\n    <tr>\n      <th>26707</th>\n      <td>0</td>\n      <td>israeli ban targeting boycott supporters raise...</td>\n      <td>https://www.huffingtonpost.com/entry/israeli-b...</td>\n    </tr>\n    <tr>\n      <th>26708</th>\n      <td>0</td>\n      <td>gourmet gifts for the foodie 2014</td>\n      <td>https://www.huffingtonpost.com/entry/gourmet-g...</td>\n    </tr>\n  </tbody>\n</table>\n<p>55328 rows × 3 columns</p>\n</div>"
     },
     "execution_count": 2,
     "metadata": {},
     "output_type": "execute_result"
    }
   ],
   "source": [
    "import pandas as pd\n",
    "\n",
    "from sklearn.model_selection import train_test_split\n",
    "from sklearn.metrics import roc_auc_score\n",
    "\n",
    "from scripts.VectorizationStrategy import TfidfPreprocessingStrategy\n",
    "from scripts.FeatureNumberReducingStrategy import TruncatedSVDStrategy\n",
    "from scripts.ClassificationContext import ClassificationContext\n",
    "from scripts.ClassificationStrategy import GaussianNBStrategy, LogisticRegressionStrategy, \\\n",
    "    SVCStrategy, RandomForestStrategy, LightGBMStrategy\n",
    "\n",
    "\n",
    "df = pd.read_csv('../data/sarcasm_detection.csv', index_col=0)\n",
    "df"
   ],
   "metadata": {
    "collapsed": false
   }
  },
  {
   "cell_type": "code",
   "execution_count": 7,
   "outputs": [],
   "source": [
    "# temp_df = df.iloc[:1000,:]\n",
    "X = df.drop('is_sarcastic', axis=1)\n",
    "y = df['is_sarcastic']"
   ],
   "metadata": {
    "collapsed": false
   }
  },
  {
   "cell_type": "code",
   "execution_count": 51,
   "outputs": [],
   "source": [
    "X_train, X_test, y_train, y_test = train_test_split(\n",
    "    X, y, test_size=0.2, random_state=42\n",
    ")"
   ],
   "metadata": {
    "collapsed": false
   }
  },
  {
   "cell_type": "code",
   "execution_count": null,
   "outputs": [],
   "source": [
    "model_results = {}"
   ],
   "metadata": {
    "collapsed": false
   }
  },
  {
   "cell_type": "code",
   "execution_count": 11,
   "outputs": [
    {
     "name": "stdout",
     "output_type": "stream",
     "text": [
      "GaussianNBStrategy_SVD_None\n",
      "roc_auc_score on test set: 0.7665627982928773\n",
      "\n",
      "LogisticRegressionStrategy_SVD_None\n",
      "roc_auc_score on test set: 0.8223783096539737\n",
      "\n",
      "SVCStrategy_SVD_None\n",
      "roc_auc_score on test set: 0.829560248915956\n",
      "\n",
      "RandomForestStrategy_SVD_None\n",
      "roc_auc_score on test set: 0.9428091530388729\n",
      "\n",
      "LightGBMStrategy_SVD_None\n",
      "[LightGBM] [Info] Auto-choosing row-wise multi-threading, the overhead of testing was 0.241531 seconds.\n",
      "You can set `force_row_wise=true` to remove the overhead.\n",
      "And if memory is not enough, you can set `force_col_wise=true`.\n",
      "[LightGBM] [Info] Total Bins 67025\n",
      "[LightGBM] [Info] Number of data points in the train set: 44262, number of used features: 2946\n",
      "[LightGBM] [Info] Start training from score 0.457774\n",
      "roc_auc_score on test set: 0.8615065778920767\n",
      "\n",
      "GaussianNBStrategy_SVD_3000\n",
      "roc_auc_score on test set: 0.565046747342153\n",
      "\n",
      "LogisticRegressionStrategy_SVD_3000\n",
      "roc_auc_score on test set: 0.8040096150559181\n",
      "\n",
      "SVCStrategy_SVD_3000\n",
      "roc_auc_score on test set: 0.8072381793846258\n",
      "\n",
      "RandomForestStrategy_SVD_3000\n",
      "roc_auc_score on test set: 0.916143216080402\n",
      "\n",
      "LightGBMStrategy_SVD_3000\n",
      "[LightGBM] [Info] Auto-choosing col-wise multi-threading, the overhead of testing was 2.734296 seconds.\n",
      "You can set `force_col_wise=true` to remove the overhead.\n",
      "[LightGBM] [Info] Total Bins 765000\n",
      "[LightGBM] [Info] Number of data points in the train set: 44262, number of used features: 3000\n",
      "[LightGBM] [Info] Start training from score 0.457774\n",
      "roc_auc_score on test set: 0.890468630436326\n",
      "\n"
     ]
    }
   ],
   "source": [
    "fc_strategies = [GaussianNBStrategy, LogisticRegressionStrategy,\n",
    "                 SVCStrategy, RandomForestStrategy, LightGBMStrategy]\n",
    "for fc_st in fc_strategies:\n",
    "    for svd_n_components in [None, 3000]:\n",
    "        name = fc_st.__name__ + '_SVD_' + str(svd_n_components)\n",
    "        print(name)\n",
    "        svd = None\n",
    "        if svd_n_components:\n",
    "            svd = TruncatedSVDStrategy(svd_n_components)\n",
    "        context = ClassificationContext(TfidfPreprocessingStrategy(), fc_st(), svd)\n",
    "\n",
    "        # roc_auc = context.cross_validate(X_train, y_train)\n",
    "        # print(f\"Mean roc_auc: {roc_auc}\\n\")\n",
    "\n",
    "        y_pred = context.execute_strategy(X_train, y_train, X_test)\n",
    "        roc_auc = roc_auc_score(y_test, y_pred)\n",
    "        model_results[name] = roc_auc\n",
    "        print(f\"roc_auc_score on test set: {roc_auc}\\n\")\n",
    "\n",
    "        context.serialize_model(name + '.pkl')"
   ],
   "metadata": {
    "collapsed": false
   }
  },
  {
   "cell_type": "code",
   "execution_count": 16,
   "outputs": [
    {
     "data": {
      "text/plain": "{'GaussianNBStrategy_SVD_None': 0.7665627982928773,\n 'LogisticRegressionStrategy_SVD_None': 0.8223783096539737,\n 'SVCStrategy_SVD_None': 0.829560248915956,\n 'RandomForestStrategy_SVD_None': 0.9428091530388729,\n 'LightGBMStrategy_SVD_None': 0.8615065778920767,\n 'GaussianNBStrategy_SVD_3000': 0.565046747342153,\n 'LogisticRegressionStrategy_SVD_3000': 0.8040096150559181,\n 'SVCStrategy_SVD_3000': 0.8072381793846258,\n 'RandomForestStrategy_SVD_3000': 0.916143216080402,\n 'LightGBMStrategy_SVD_3000': 0.890468630436326}"
     },
     "execution_count": 16,
     "metadata": {},
     "output_type": "execute_result"
    }
   ],
   "source": [
    "model_results"
   ],
   "metadata": {
    "collapsed": false
   }
  },
  {
   "cell_type": "markdown",
   "source": [
    "    {'GaussianNBStrategy_SVD_None': 0.7665627982928773,\n",
    "     'LogisticRegressionStrategy_SVD_None': 0.8223783096539737,\n",
    "     'SVCStrategy_SVD_None': 0.829560248915956,\n",
    "     'RandomForestStrategy_SVD_None': 0.9428091530388729,\n",
    "     'LightGBMStrategy_SVD_None': 0.8615065778920767,\n",
    "     'GaussianNBStrategy_SVD_3000': 0.565046747342153,\n",
    "     'LogisticRegressionStrategy_SVD_3000': 0.8040096150559181,\n",
    "     'SVCStrategy_SVD_3000': 0.8072381793846258,\n",
    "     'RandomForestStrategy_SVD_3000': 0.916143216080402,\n",
    "     'LightGBMStrategy_SVD_3000': 0.890468630436326}"
   ],
   "metadata": {
    "collapsed": false
   }
  },
  {
   "cell_type": "code",
   "execution_count": 29,
   "outputs": [
    {
     "data": {
      "text/plain": "                                 model     score\n3        RandomForestStrategy_SVD_None  0.942809\n8        RandomForestStrategy_SVD_3000  0.916143\n9            LightGBMStrategy_SVD_3000  0.890469\n4            LightGBMStrategy_SVD_None  0.861507\n2                 SVCStrategy_SVD_None  0.829560\n1  LogisticRegressionStrategy_SVD_None  0.822378\n7                 SVCStrategy_SVD_3000  0.807238\n6  LogisticRegressionStrategy_SVD_3000  0.804010\n0          GaussianNBStrategy_SVD_None  0.766563\n5          GaussianNBStrategy_SVD_3000  0.565047",
      "text/html": "<div>\n<style scoped>\n    .dataframe tbody tr th:only-of-type {\n        vertical-align: middle;\n    }\n\n    .dataframe tbody tr th {\n        vertical-align: top;\n    }\n\n    .dataframe thead th {\n        text-align: right;\n    }\n</style>\n<table border=\"1\" class=\"dataframe\">\n  <thead>\n    <tr style=\"text-align: right;\">\n      <th></th>\n      <th>model</th>\n      <th>score</th>\n    </tr>\n  </thead>\n  <tbody>\n    <tr>\n      <th>3</th>\n      <td>RandomForestStrategy_SVD_None</td>\n      <td>0.942809</td>\n    </tr>\n    <tr>\n      <th>8</th>\n      <td>RandomForestStrategy_SVD_3000</td>\n      <td>0.916143</td>\n    </tr>\n    <tr>\n      <th>9</th>\n      <td>LightGBMStrategy_SVD_3000</td>\n      <td>0.890469</td>\n    </tr>\n    <tr>\n      <th>4</th>\n      <td>LightGBMStrategy_SVD_None</td>\n      <td>0.861507</td>\n    </tr>\n    <tr>\n      <th>2</th>\n      <td>SVCStrategy_SVD_None</td>\n      <td>0.829560</td>\n    </tr>\n    <tr>\n      <th>1</th>\n      <td>LogisticRegressionStrategy_SVD_None</td>\n      <td>0.822378</td>\n    </tr>\n    <tr>\n      <th>7</th>\n      <td>SVCStrategy_SVD_3000</td>\n      <td>0.807238</td>\n    </tr>\n    <tr>\n      <th>6</th>\n      <td>LogisticRegressionStrategy_SVD_3000</td>\n      <td>0.804010</td>\n    </tr>\n    <tr>\n      <th>0</th>\n      <td>GaussianNBStrategy_SVD_None</td>\n      <td>0.766563</td>\n    </tr>\n    <tr>\n      <th>5</th>\n      <td>GaussianNBStrategy_SVD_3000</td>\n      <td>0.565047</td>\n    </tr>\n  </tbody>\n</table>\n</div>"
     },
     "execution_count": 29,
     "metadata": {},
     "output_type": "execute_result"
    }
   ],
   "source": [
    "res = pd.DataFrame({'model': model_results.keys(), 'score': model_results.values()})\n",
    "res = res.sort_values(by='score', ascending=False)\n",
    "res"
   ],
   "metadata": {
    "collapsed": false
   }
  },
  {
   "cell_type": "markdown",
   "source": [
    "**Найкращий результут був отриманий за допомогою RandomForest без застосування TruncatedSVD.**"
   ],
   "metadata": {
    "collapsed": false
   }
  },
  {
   "cell_type": "code",
   "execution_count": 52,
   "outputs": [
    {
     "name": "stdout",
     "output_type": "stream",
     "text": [
      "[0 0 0 ... 0 1 1]\n"
     ]
    }
   ],
   "source": [
    "import pickle\n",
    "from scripts.preprocessing import base_text_preprocessing\n",
    "\n",
    "\n",
    "best_model_str = 'RandomForestStrategy_SVD_None'\n",
    "best_model = pickle.load(open(f'../models/{best_model_str}.pkl', 'rb'))\n",
    "\n",
    "X_train = base_text_preprocessing(X_train.iloc[:, 0])\n",
    "X_test = base_text_preprocessing(X_test.iloc[:, 0])\n",
    "X_train, X_test = TfidfPreprocessingStrategy().execute(X_train, X_test)\n",
    "predictions = best_model.predict(X_test)\n",
    "print(predictions)"
   ],
   "metadata": {
    "collapsed": false
   }
  },
  {
   "cell_type": "code",
   "execution_count": 55,
   "outputs": [],
   "source": [
    "df_predictions = y_test.to_frame().rename(columns={'is_sarcastic': 'fact'})\n",
    "df_predictions['predict'] = predictions\n",
    "df_predictions.to_csv('../data/predictions.csv', index=True)"
   ],
   "metadata": {
    "collapsed": false
   }
  },
  {
   "cell_type": "markdown",
   "source": [],
   "metadata": {
    "collapsed": false
   }
  },
  {
   "cell_type": "markdown",
   "source": [
    "### using cross-validation"
   ],
   "metadata": {
    "collapsed": false
   }
  },
  {
   "cell_type": "code",
   "execution_count": 27,
   "outputs": [
    {
     "name": "stdout",
     "output_type": "stream",
     "text": [
      "LogisticRegressionStrategy_SVD_None\n",
      "[    0     1     2 ... 55325 55326 55327]\n"
     ]
    },
    {
     "name": "stderr",
     "output_type": "stream",
     "text": [
      "C:\\Users\\user\\anaconda3\\envs\\nlp_2024\\lib\\site-packages\\sklearn\\linear_model\\_logistic.py:458: ConvergenceWarning: lbfgs failed to converge (status=1):\n",
      "STOP: TOTAL NO. of ITERATIONS REACHED LIMIT.\n",
      "\n",
      "Increase the number of iterations (max_iter) or scale the data as shown in:\n",
      "    https://scikit-learn.org/stable/modules/preprocessing.html\n",
      "Please also refer to the documentation for alternative solver options:\n",
      "    https://scikit-learn.org/stable/modules/linear_model.html#logistic-regression\n",
      "  n_iter_i = _check_optimize_result(\n"
     ]
    },
    {
     "name": "stdout",
     "output_type": "stream",
     "text": [
      "[    1     2     3 ... 55325 55326 55327]\n"
     ]
    },
    {
     "name": "stderr",
     "output_type": "stream",
     "text": [
      "C:\\Users\\user\\anaconda3\\envs\\nlp_2024\\lib\\site-packages\\sklearn\\linear_model\\_logistic.py:458: ConvergenceWarning: lbfgs failed to converge (status=1):\n",
      "STOP: TOTAL NO. of ITERATIONS REACHED LIMIT.\n",
      "\n",
      "Increase the number of iterations (max_iter) or scale the data as shown in:\n",
      "    https://scikit-learn.org/stable/modules/preprocessing.html\n",
      "Please also refer to the documentation for alternative solver options:\n",
      "    https://scikit-learn.org/stable/modules/linear_model.html#logistic-regression\n",
      "  n_iter_i = _check_optimize_result(\n"
     ]
    },
    {
     "name": "stdout",
     "output_type": "stream",
     "text": [
      "[    0     1     2 ... 55323 55325 55326]\n",
      "[    0     1     3 ... 55324 55326 55327]\n"
     ]
    },
    {
     "name": "stderr",
     "output_type": "stream",
     "text": [
      "C:\\Users\\user\\anaconda3\\envs\\nlp_2024\\lib\\site-packages\\sklearn\\linear_model\\_logistic.py:458: ConvergenceWarning: lbfgs failed to converge (status=1):\n",
      "STOP: TOTAL NO. of ITERATIONS REACHED LIMIT.\n",
      "\n",
      "Increase the number of iterations (max_iter) or scale the data as shown in:\n",
      "    https://scikit-learn.org/stable/modules/preprocessing.html\n",
      "Please also refer to the documentation for alternative solver options:\n",
      "    https://scikit-learn.org/stable/modules/linear_model.html#logistic-regression\n",
      "  n_iter_i = _check_optimize_result(\n"
     ]
    },
    {
     "name": "stdout",
     "output_type": "stream",
     "text": [
      "[    0     2     3 ... 55324 55325 55327]\n",
      "Mean roc_auc: 0.8147256070383996\n",
      "\n"
     ]
    }
   ],
   "source": [
    "for fc_st in [LogisticRegressionStrategy]:\n",
    "    for svd_n_components in [None]:\n",
    "        name = fc_st.__name__ + '_SVD_' + str(svd_n_components)\n",
    "        print(name)\n",
    "        svd = None\n",
    "        if svd_n_components:\n",
    "            svd = TruncatedSVDStrategy(svd_n_components)\n",
    "        context = ClassificationContext(TfidfPreprocessingStrategy(), fc_st(), svd)\n",
    "\n",
    "        roc_auc = context.cross_validate(X, y)\n",
    "        print(f\"Mean roc_auc: {roc_auc}\\n\")"
   ],
   "metadata": {
    "collapsed": false
   }
  }
 ],
 "metadata": {
  "kernelspec": {
   "display_name": "Python 3",
   "language": "python",
   "name": "python3"
  },
  "language_info": {
   "codemirror_mode": {
    "name": "ipython",
    "version": 2
   },
   "file_extension": ".py",
   "mimetype": "text/x-python",
   "name": "python",
   "nbconvert_exporter": "python",
   "pygments_lexer": "ipython2",
   "version": "2.7.6"
  }
 },
 "nbformat": 4,
 "nbformat_minor": 0
}
